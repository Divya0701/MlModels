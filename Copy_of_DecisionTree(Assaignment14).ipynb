{
  "nbformat": 4,
  "nbformat_minor": 0,
  "metadata": {
    "colab": {
      "name": "Copy of DecisionTree(Assaignment14).ipynb",
      "provenance": [],
      "include_colab_link": true
    },
    "kernelspec": {
      "name": "python3",
      "display_name": "Python 3"
    }
  },
  "cells": [
    {
      "cell_type": "markdown",
      "metadata": {
        "id": "view-in-github",
        "colab_type": "text"
      },
      "source": [
        "<a href=\"https://colab.research.google.com/github/Divya0701/MlModels/blob/main/Copy_of_DecisionTree(Assaignment14).ipynb\" target=\"_parent\"><img src=\"https://colab.research.google.com/assets/colab-badge.svg\" alt=\"Open In Colab\"/></a>"
      ]
    },
    {
      "cell_type": "code",
      "metadata": {
        "id": "2T41TDoA-ODF"
      },
      "source": [
        "# Importing the libraries\r\n",
        "import numpy as np\r\n",
        "import matplotlib.pyplot as plt\r\n",
        "from sklearn import datasets\r\n",
        "from sklearn import tree\r\n",
        "from sklearn.tree import DecisionTreeClassifier"
      ],
      "execution_count": null,
      "outputs": []
    },
    {
      "cell_type": "code",
      "metadata": {
        "id": "UXVQP8Nr-Pcq"
      },
      "source": [
        "# Prepare the data data\r\n",
        " \r\n",
        "iris = datasets.load_iris()\r\n",
        "X = iris.data\r\n",
        "y = iris.target\r\n",
        "# train and test dataset splitting\r\n",
        "from sklearn.model_selection import train_test_split\r\n",
        "X_train, X_test, y_train, y_test = train_test_split(X,y,test_size=0.25,random_state=42)\r\n",
        "\r\n",
        "# Fit the classifier with default hyper-parameters\r\n",
        "#clf = DecisionTreeClassifier(criterion=\"gini\",random_state=12)\r\n",
        "clf = DecisionTreeClassifier(criterion=\"entropy\",random_state=12)\r\n",
        "model = clf.fit(X_train, y_train)\r\n"
      ],
      "execution_count": null,
      "outputs": []
    },
    {
      "cell_type": "code",
      "metadata": {
        "id": "yiZYuGdfsfdN"
      },
      "source": [
        "print(X)\r\n"
      ],
      "execution_count": null,
      "outputs": []
    },
    {
      "cell_type": "code",
      "metadata": {
        "id": "KElV9IUb--r6"
      },
      "source": [
        "fig = plt.figure(figsize=(25,20))\r\n",
        "_ = tree.plot_tree(clf, \r\n",
        "                   feature_names=iris.feature_names,  \r\n",
        "                   class_names=iris.target_names,\r\n",
        "                   filled=True)\r\n"
      ],
      "execution_count": null,
      "outputs": []
    },
    {
      "cell_type": "code",
      "metadata": {
        "id": "1AxhTFZH_Iys"
      },
      "source": [
        "# Predicting the test set results\r\n",
        "y_pred = clf.predict(X_test)\r\n",
        "from sklearn.metrics import classification_report,confusion_matrix\r\n",
        "c=confusion_matrix(y_test, y_pred)\r\n",
        "print(c)"
      ],
      "execution_count": null,
      "outputs": []
    },
    {
      "cell_type": "code",
      "metadata": {
        "id": "Ogwlg4kDt3Sb"
      },
      "source": [
        "print(X_test.shape)"
      ],
      "execution_count": null,
      "outputs": []
    }
  ]
}