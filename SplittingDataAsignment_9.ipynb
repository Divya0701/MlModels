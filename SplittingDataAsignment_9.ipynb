{
  "nbformat": 4,
  "nbformat_minor": 0,
  "metadata": {
    "colab": {
      "name": "SplittingDataAsignment-9",
      "provenance": [],
      "authorship_tag": "ABX9TyMCdGFCcbInARP7ODKy/C2e",
      "include_colab_link": true
    },
    "kernelspec": {
      "name": "python3",
      "display_name": "Python 3"
    }
  },
  "cells": [
    {
      "cell_type": "markdown",
      "metadata": {
        "id": "view-in-github",
        "colab_type": "text"
      },
      "source": [
        "<a href=\"https://colab.research.google.com/github/Divya0701/MlModels/blob/main/SplittingDataAsignment_9.ipynb\" target=\"_parent\"><img src=\"https://colab.research.google.com/assets/colab-badge.svg\" alt=\"Open In Colab\"/></a>"
      ]
    },
    {
      "cell_type": "code",
      "metadata": {
        "id": "yZCFkjO5U3Xl"
      },
      "source": [
        "import pandas as pd"
      ],
      "execution_count": 2,
      "outputs": []
    },
    {
      "cell_type": "code",
      "metadata": {
        "id": "bv6BR9WYWEYK"
      },
      "source": [
        "import numpy as np"
      ],
      "execution_count": 3,
      "outputs": []
    },
    {
      "cell_type": "code",
      "metadata": {
        "id": "aex_SzACWAtv"
      },
      "source": [
        "df=pd.read_csv('iris.csv')"
      ],
      "execution_count": 6,
      "outputs": []
    },
    {
      "cell_type": "code",
      "metadata": {
        "id": "D2ksdRYqV_XH"
      },
      "source": [
        "m,n=df.shape"
      ],
      "execution_count": 10,
      "outputs": []
    },
    {
      "cell_type": "code",
      "metadata": {
        "colab": {
          "base_uri": "https://localhost:8080/"
        },
        "id": "6tXratJ7XfzK",
        "outputId": "3b62e8b7-4f21-4176-c546-e62dbd3cfc2f"
      },
      "source": [
        "print(m)"
      ],
      "execution_count": 15,
      "outputs": [
        {
          "output_type": "stream",
          "text": [
            "150\n"
          ],
          "name": "stdout"
        }
      ]
    },
    {
      "cell_type": "code",
      "metadata": {
        "id": "TJmlKE17WT_x"
      },
      "source": [
        "print(df)"
      ],
      "execution_count": null,
      "outputs": []
    },
    {
      "cell_type": "code",
      "metadata": {
        "id": "y_lNf9MiWaJQ"
      },
      "source": [
        "X_train=df.iloc[:int(0.7*m), :3]"
      ],
      "execution_count": 20,
      "outputs": []
    },
    {
      "cell_type": "code",
      "metadata": {
        "id": "IoqVjLwLXrCF"
      },
      "source": [
        "Y_train=df.iloc[:int(0.7*m),4]"
      ],
      "execution_count": 36,
      "outputs": []
    },
    {
      "cell_type": "code",
      "metadata": {
        "colab": {
          "base_uri": "https://localhost:8080/"
        },
        "id": "BKW1lH3lY3c6",
        "outputId": "9c2d1979-b3bb-45b3-f001-7ae9cab4e42a"
      },
      "source": [
        "print(X_train)"
      ],
      "execution_count": 30,
      "outputs": [
        {
          "output_type": "stream",
          "text": [
            "     Sepal.length  Sepal.width  Petal.length\n",
            "0             5.1          3.5           1.4\n",
            "1             4.9          3.0           1.4\n",
            "2             4.7          3.2           1.3\n",
            "3             4.6          3.1           1.5\n",
            "4             5.0          3.6           1.4\n",
            "..            ...          ...           ...\n",
            "100           6.3          3.3           6.0\n",
            "101           5.8          2.7           5.1\n",
            "102           7.1          3.0           5.9\n",
            "103           6.3          2.9           5.6\n",
            "104           6.5          3.0           5.8\n",
            "\n",
            "[105 rows x 3 columns]\n"
          ],
          "name": "stdout"
        }
      ]
    },
    {
      "cell_type": "code",
      "metadata": {
        "colab": {
          "base_uri": "https://localhost:8080/"
        },
        "id": "sITVKm0xX9IX",
        "outputId": "f5055cb9-1c94-44f3-fe70-badc8ce23a6e"
      },
      "source": [
        "print(Y_train)"
      ],
      "execution_count": 37,
      "outputs": [
        {
          "output_type": "stream",
          "text": [
            "0      0\n",
            "1      0\n",
            "2      0\n",
            "3      0\n",
            "4      0\n",
            "      ..\n",
            "100    2\n",
            "101    2\n",
            "102    2\n",
            "103    2\n",
            "104    2\n",
            "Name: Species, Length: 105, dtype: int64\n"
          ],
          "name": "stdout"
        }
      ]
    },
    {
      "cell_type": "code",
      "metadata": {
        "id": "xjAnsehYYCD4"
      },
      "source": [
        "X_test=df.iloc[int(0.7*m):,:3]"
      ],
      "execution_count": 31,
      "outputs": []
    },
    {
      "cell_type": "code",
      "metadata": {
        "colab": {
          "base_uri": "https://localhost:8080/"
        },
        "id": "tISpk5nZYe47",
        "outputId": "f1bd3074-6663-4b71-dead-6585a66a2e96"
      },
      "source": [
        "print(X_test)"
      ],
      "execution_count": 32,
      "outputs": [
        {
          "output_type": "stream",
          "text": [
            "     Sepal.length  Sepal.width  Petal.length\n",
            "105           7.6          3.0           6.6\n",
            "106           4.9          2.5           4.5\n",
            "107           7.3          2.9           6.3\n",
            "108           6.7          2.5           5.8\n",
            "109           7.2          3.6           6.1\n",
            "110           6.5          3.2           5.1\n",
            "111           6.4          2.7           5.3\n",
            "112           6.8          3.0           5.5\n",
            "113           5.7          2.5           5.0\n",
            "114           5.8          2.8           5.1\n",
            "115           6.4          3.2           5.3\n",
            "116           6.5          3.0           5.5\n",
            "117           7.7          3.8           6.7\n",
            "118           7.7          2.6           6.9\n",
            "119           6.0          2.2           5.0\n",
            "120           6.9          3.2           5.7\n",
            "121           5.6          2.8           4.9\n",
            "122           7.7          2.8           6.7\n",
            "123           6.3          2.7           4.9\n",
            "124           6.7          3.3           5.7\n",
            "125           7.2          3.2           6.0\n",
            "126           6.2          2.8           4.8\n",
            "127           6.1          3.0           4.9\n",
            "128           6.4          2.8           5.6\n",
            "129           7.2          3.0           5.8\n",
            "130           7.4          2.8           6.1\n",
            "131           7.9          3.8           6.4\n",
            "132           6.4          2.8           5.6\n",
            "133           6.3          2.8           5.1\n",
            "134           6.1          2.6           5.6\n",
            "135           7.7          3.0           6.1\n",
            "136           6.3          3.4           5.6\n",
            "137           6.4          3.1           5.5\n",
            "138           6.0          3.0           4.8\n",
            "139           6.9          3.1           5.4\n",
            "140           6.7          3.1           5.6\n",
            "141           6.9          3.1           5.1\n",
            "142           5.8          2.7           5.1\n",
            "143           6.8          3.2           5.9\n",
            "144           6.7          3.3           5.7\n",
            "145           6.7          3.0           5.2\n",
            "146           6.3          2.5           5.0\n",
            "147           6.5          3.0           5.2\n",
            "148           6.2          3.4           5.4\n",
            "149           5.9          3.0           5.1\n"
          ],
          "name": "stdout"
        }
      ]
    },
    {
      "cell_type": "code",
      "metadata": {
        "id": "lLZW2grxYRR6"
      },
      "source": [
        "Y_test=df.iloc[int(0.7*m):,4]"
      ],
      "execution_count": 33,
      "outputs": []
    },
    {
      "cell_type": "code",
      "metadata": {
        "colab": {
          "base_uri": "https://localhost:8080/"
        },
        "id": "aKeLHO_RYZdb",
        "outputId": "f5bb5bd6-2ad9-4e5a-eb12-b65127564be4"
      },
      "source": [
        "print(Y_test)"
      ],
      "execution_count": 34,
      "outputs": [
        {
          "output_type": "stream",
          "text": [
            "105    2\n",
            "106    2\n",
            "107    2\n",
            "108    2\n",
            "109    2\n",
            "110    2\n",
            "111    2\n",
            "112    2\n",
            "113    2\n",
            "114    2\n",
            "115    2\n",
            "116    2\n",
            "117    2\n",
            "118    2\n",
            "119    2\n",
            "120    2\n",
            "121    2\n",
            "122    2\n",
            "123    2\n",
            "124    2\n",
            "125    2\n",
            "126    2\n",
            "127    2\n",
            "128    2\n",
            "129    2\n",
            "130    2\n",
            "131    2\n",
            "132    2\n",
            "133    2\n",
            "134    2\n",
            "135    2\n",
            "136    2\n",
            "137    2\n",
            "138    2\n",
            "139    2\n",
            "140    2\n",
            "141    2\n",
            "142    2\n",
            "143    2\n",
            "144    2\n",
            "145    2\n",
            "146    2\n",
            "147    2\n",
            "148    2\n",
            "149    2\n",
            "Name: Species, dtype: int64\n"
          ],
          "name": "stdout"
        }
      ]
    }
  ]
}