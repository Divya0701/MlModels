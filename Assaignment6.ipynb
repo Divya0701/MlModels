{
  "nbformat": 4,
  "nbformat_minor": 0,
  "metadata": {
    "colab": {
      "name": "Assaignment6",
      "provenance": [],
      "collapsed_sections": [],
      "authorship_tag": "ABX9TyOK6yi6EZasCL5JVf+QmXuK",
      "include_colab_link": true
    },
    "kernelspec": {
      "name": "python3",
      "display_name": "Python 3"
    }
  },
  "cells": [
    {
      "cell_type": "markdown",
      "metadata": {
        "id": "view-in-github",
        "colab_type": "text"
      },
      "source": [
        "<a href=\"https://colab.research.google.com/github/Divya0701/MlModels/blob/main/Assaignment6.ipynb\" target=\"_parent\"><img src=\"https://colab.research.google.com/assets/colab-badge.svg\" alt=\"Open In Colab\"/></a>"
      ]
    },
    {
      "cell_type": "markdown",
      "metadata": {
        "id": "5F0Xa7kLtFYx"
      },
      "source": [
        "**Multiple Regression**"
      ]
    },
    {
      "cell_type": "code",
      "metadata": {
        "id": "_Urj__6ftJn8"
      },
      "source": [
        "import numpy as np"
      ],
      "execution_count": null,
      "outputs": []
    },
    {
      "cell_type": "code",
      "metadata": {
        "id": "LxsQxnH8pcM_"
      },
      "source": [
        "import pandas as pd"
      ],
      "execution_count": null,
      "outputs": []
    },
    {
      "cell_type": "code",
      "metadata": {
        "id": "g5SYvlAHpfzJ"
      },
      "source": [
        "from sklearn import linear_model"
      ],
      "execution_count": null,
      "outputs": []
    },
    {
      "cell_type": "code",
      "metadata": {
        "id": "lpgaGi8WpkVU"
      },
      "source": [
        "import seaborn as sb"
      ],
      "execution_count": null,
      "outputs": []
    },
    {
      "cell_type": "code",
      "metadata": {
        "id": "k8UfM341p6Sa"
      },
      "source": [
        "df=pd.read_csv(\"cereals.csv\")"
      ],
      "execution_count": null,
      "outputs": []
    },
    {
      "cell_type": "markdown",
      "metadata": {
        "id": "CRXe_LK9s4YU"
      },
      "source": [
        "**Splitting Data**"
      ]
    },
    {
      "cell_type": "code",
      "metadata": {
        "id": "RXXiF5Xyponb"
      },
      "source": [
        "X=df.iloc[:,:5]\r\n",
        "Y=df.iloc[:,5]\r\n",
        "from sklearn.model_selection import train_test_split\r\n",
        "X_train,X_test,Y_train,Y_test= train_test_split(X,Y,test_size=0.3)\r\n",
        "\r\n"
      ],
      "execution_count": null,
      "outputs": []
    },
    {
      "cell_type": "markdown",
      "metadata": {
        "id": "UHku7Rhms0ed"
      },
      "source": [
        "**Building Model**"
      ]
    },
    {
      "cell_type": "code",
      "metadata": {
        "id": "lg0_wlaxq8mf"
      },
      "source": [
        "rg=linear_model.LinearRegression()"
      ],
      "execution_count": null,
      "outputs": []
    },
    {
      "cell_type": "code",
      "metadata": {
        "id": "s3PerVIHrCE0",
        "colab": {
          "base_uri": "https://localhost:8080/"
        },
        "outputId": "8838aa5b-62b9-4d00-d20c-34a28e66d37f"
      },
      "source": [
        "rg.fit(X_train,Y_train)"
      ],
      "execution_count": null,
      "outputs": [
        {
          "output_type": "execute_result",
          "data": {
            "text/plain": [
              "LinearRegression(copy_X=True, fit_intercept=True, n_jobs=None, normalize=False)"
            ]
          },
          "metadata": {
            "tags": []
          },
          "execution_count": 13
        }
      ]
    },
    {
      "cell_type": "code",
      "metadata": {
        "id": "3e7Xu9P4rJA7"
      },
      "source": [
        "Y_Pred=rg.predict(X_test)"
      ],
      "execution_count": null,
      "outputs": []
    },
    {
      "cell_type": "markdown",
      "metadata": {
        "id": "cw6JL1ZEtPtC"
      },
      "source": [
        "**Visualization**"
      ]
    },
    {
      "cell_type": "code",
      "metadata": {
        "id": "21IPsUmzrZ3u",
        "colab": {
          "base_uri": "https://localhost:8080/",
          "height": 384
        },
        "outputId": "c4e2633b-6ce0-449e-de1a-4d9a949e5e65"
      },
      "source": [
        "ax1=sb.distplot(Y_test,hist=False,color=\"r\",label=\"Y_test\")\r\n",
        "sb.distplot(Y_Pred,hist=False,color=\"b\",label=\"Y_Pred\",ax=ax1)"
      ],
      "execution_count": null,
      "outputs": [
        {
          "output_type": "stream",
          "text": [
            "/usr/local/lib/python3.6/dist-packages/seaborn/distributions.py:2551: FutureWarning: `distplot` is a deprecated function and will be removed in a future version. Please adapt your code to use either `displot` (a figure-level function with similar flexibility) or `kdeplot` (an axes-level function for kernel density plots).\n",
            "  warnings.warn(msg, FutureWarning)\n",
            "/usr/local/lib/python3.6/dist-packages/seaborn/distributions.py:2551: FutureWarning: `distplot` is a deprecated function and will be removed in a future version. Please adapt your code to use either `displot` (a figure-level function with similar flexibility) or `kdeplot` (an axes-level function for kernel density plots).\n",
            "  warnings.warn(msg, FutureWarning)\n"
          ],
          "name": "stderr"
        },
        {
          "output_type": "execute_result",
          "data": {
            "text/plain": [
              "<matplotlib.axes._subplots.AxesSubplot at 0x7f3416116cf8>"
            ]
          },
          "metadata": {
            "tags": []
          },
          "execution_count": 15
        },
        {
          "output_type": "display_data",
          "data": {
            "image/png": "[encoded data removed]",
            "text/plain": [
              "<Figure size 432x288 with 1 Axes>"
            ]
          },
          "metadata": {
            "tags": [],
            "needs_background": "light"
          }
        }
      ]
    },
    {
      "cell_type": "markdown",
      "metadata": {
        "id": "rUm2wgo1sm0q"
      },
      "source": [
        "**Testing Accuracy**"
      ]
    },
    {
      "cell_type": "code",
      "metadata": {
        "colab": {
          "base_uri": "https://localhost:8080/"
        },
        "id": "1yFalQCusBnr",
        "outputId": "20b07b5a-d1cd-41d0-eadd-26d2ac67970b"
      },
      "source": [
        "print(rg.score(X_train,Y_train))"
      ],
      "execution_count": null,
      "outputs": [
        {
          "output_type": "stream",
          "text": [
            "0.8546424047011791\n"
          ],
          "name": "stdout"
        }
      ]
    },
    {
      "cell_type": "code",
      "metadata": {
        "colab": {
          "base_uri": "https://localhost:8080/"
        },
        "id": "oorVbdbrscpc",
        "outputId": "e2fb332a-981d-4bc8-93d0-3b7014b4a7a2"
      },
      "source": [
        "print(rg.score(X_test,Y_test))"
      ],
      "execution_count": null,
      "outputs": [
        {
          "output_type": "stream",
          "text": [
            "0.7697964487638276\n"
          ],
          "name": "stdout"
        }
      ]
    },
    {
      "cell_type": "markdown",
      "metadata": {
        "id": "BJwo5ZUcslbM"
      },
      "source": [
        "**Forward Feature Selection**"
      ]
    },
    {
      "cell_type": "code",
      "metadata": {
        "id": "lppKqxBNs-RC",
        "colab": {
          "base_uri": "https://localhost:8080/"
        },
        "outputId": "0795aa03-d71e-4ac8-eaee-f3e2c177fd03"
      },
      "source": [
        "import statsmodels.api as sm "
      ],
      "execution_count": null,
      "outputs": [
        {
          "output_type": "stream",
          "text": [
            "/usr/local/lib/python3.6/dist-packages/statsmodels/tools/_testing.py:19: FutureWarning: pandas.util.testing is deprecated. Use the functions in the public API at pandas.testing instead.\n",
            "  import pandas.util.testing as tm\n"
          ],
          "name": "stderr"
        }
      ]
    },
    {
      "cell_type": "code",
      "metadata": {
        "id": "UcxHFQexwb0l"
      },
      "source": [
        "X= np.append(arr = np.ones((75,1)).astype(int), values=X, axis=1) "
      ],
      "execution_count": null,
      "outputs": []
    },
    {
      "cell_type": "code",
      "metadata": {
        "id": "qb129m0F6cfJ"
      },
      "source": [
        "x_opt=X[:, [0,1,2,3,4]]  \r\n",
        "regressor_OLS=sm.OLS(endog = Y, exog=x_opt).fit()  \r\n",
        "regressor_OLS.summary() "
      ],
      "execution_count": null,
      "outputs": []
    },
    {
      "cell_type": "code",
      "metadata": {
        "colab": {
          "base_uri": "https://localhost:8080/"
        },
        "id": "EpeW14Ab5860",
        "outputId": "97f7d696-8d69-4d90-9c34-26d5f9e2855c"
      },
      "source": [
        "rg.fit(X_test.iloc[:,[0,1,2,4]],Y_test)"
      ],
      "execution_count": null,
      "outputs": [
        {
          "output_type": "execute_result",
          "data": {
            "text/plain": [
              "LinearRegression(copy_X=True, fit_intercept=True, n_jobs=None, normalize=False)"
            ]
          },
          "metadata": {
            "tags": []
          },
          "execution_count": 21
        }
      ]
    },
    {
      "cell_type": "code",
      "metadata": {
        "colab": {
          "base_uri": "https://localhost:8080/"
        },
        "id": "P57ZQGYj5Rl0",
        "outputId": "4d309255-2a41-4e41-ce28-554104aae4a2"
      },
      "source": [
        "rg.score(X_test.iloc[:,[0,1,2,4]],Y_test)"
      ],
      "execution_count": null,
      "outputs": [
        {
          "output_type": "execute_result",
          "data": {
            "text/plain": [
              "0.7527030484917812"
            ]
          },
          "metadata": {
            "tags": []
          },
          "execution_count": 22
        }
      ]
    },
    {
      "cell_type": "code",
      "metadata": {
        "id": "ZZT8SzO3DZpe"
      },
      "source": [
        "Ilo=[1,2,3,4]"
      ],
      "execution_count": null,
      "outputs": []
    },
    {
      "cell_type": "code",
      "metadata": {
        "id": "APGrjzFBzkYk"
      },
      "source": [
        "print(X)"
      ],
      "execution_count": null,
      "outputs": []
    },
    {
      "cell_type": "code",
      "metadata": {
        "id": "47BdECugz_Pt"
      },
      "source": [
        "Y1=Y.values"
      ],
      "execution_count": null,
      "outputs": []
    },
    {
      "cell_type": "code",
      "metadata": {
        "id": "-4Z9Dj7vFNJX"
      },
      "source": [
        "B=np.dot(np.linalg.inv(np.dot(X.T,X)), np.dot(X.T,Y1))"
      ],
      "execution_count": null,
      "outputs": []
    },
    {
      "cell_type": "code",
      "metadata": {
        "id": "SDNuqRArEaRR"
      },
      "source": [
        "y_mean=np.mean(Y1)"
      ],
      "execution_count": null,
      "outputs": []
    },
    {
      "cell_type": "code",
      "metadata": {
        "id": "X_t6XCSpIyXU"
      },
      "source": [
        "K=[0]"
      ],
      "execution_count": null,
      "outputs": []
    },
    {
      "cell_type": "code",
      "metadata": {
        "colab": {
          "base_uri": "https://localhost:8080/"
        },
        "id": "nqrfzrBh0Yqt",
        "outputId": "e74c137c-01f4-4d90-e700-3a52f64332be"
      },
      "source": [
        "print(B)"
      ],
      "execution_count": null,
      "outputs": [
        {
          "output_type": "stream",
          "text": [
            "[ 6.76474291e+01 -2.89935724e-01  4.97787519e+00 -3.99473414e+00\n",
            " -3.88759928e-02  1.57598431e+00]\n"
          ],
          "name": "stdout"
        }
      ]
    },
    {
      "cell_type": "code",
      "metadata": {
        "colab": {
          "base_uri": "https://localhost:8080/"
        },
        "id": "pqKF82hTFTzX",
        "outputId": "8e45d043-431a-4509-bae4-e082cc094d65"
      },
      "source": [
        "for p in range(1,4):\r\n",
        "    SSR=[]\r\n",
        "    for i in Ilo:\r\n",
        "         K.append(i)\r\n",
        "         yi=np.dot(X[:,K],B[K,])\r\n",
        "         ssr=np.sum((y_mean-yi)**2)\r\n",
        "         SSR.append(ssr)\r\n",
        "         K.remove(i)\r\n",
        "    print(SSR)\r\n",
        "    mini=min(SSR)\r\n",
        "    o=SSR.index(mini)\r\n",
        "    print(o)\r\n",
        "    K.append(Ilo[o])\r\n",
        "    print(K)\r\n",
        "    Ilo.remove(Ilo[o])\r\n",
        "  \r\n"
      ],
      "execution_count": null,
      "outputs": [
        {
          "output_type": "stream",
          "text": [
            "[4979.271772618121, 109633.88660400703, 34634.523865521194, 27685.085238750493]\n",
            "0\n",
            "[0, 1]\n",
            "[8066.983932641248, 12649.567669077947, 14966.08984580119]\n",
            "0\n",
            "[0, 1, 2]\n",
            "[7305.917726835388, 6336.175689132198]\n",
            "1\n",
            "[0, 1, 2, 4]\n"
          ],
          "name": "stdout"
        }
      ]
    },
    {
      "cell_type": "code",
      "metadata": {
        "id": "UYGFhyBK1kTc",
        "colab": {
          "base_uri": "https://localhost:8080/"
        },
        "outputId": "f1ecb6f0-91ac-47a2-bf9f-4675dd2a3a8b"
      },
      "source": [
        "print(K)"
      ],
      "execution_count": null,
      "outputs": [
        {
          "output_type": "stream",
          "text": [
            "[0, 1, 2, 4]\n"
          ],
          "name": "stdout"
        }
      ]
    },
    {
      "cell_type": "markdown",
      "metadata": {
        "id": "cFgCjI0K1y5h"
      },
      "source": [
        "**Corelation**"
      ]
    },
    {
      "cell_type": "code",
      "metadata": {
        "colab": {
          "base_uri": "https://localhost:8080/"
        },
        "id": "qnaR1_DL2TaB",
        "outputId": "45904375-9e8c-47cf-e82f-337ca44b370b"
      },
      "source": [
        "for i in range(1,6):\r\n",
        "  cor=np.corrcoef(X[:,i],Y1)\r\n",
        "  print(cor[0,1])\r\n",
        "  "
      ],
      "execution_count": null,
      "outputs": [
        {
          "output_type": "stream",
          "text": [
            "-0.6943772894559791\n",
            "0.4681907009172461\n",
            "-0.39337641883274627\n",
            "-0.38805033587810916\n",
            "0.6035025610302239\n"
          ],
          "name": "stdout"
        }
      ]
    },
    {
      "cell_type": "markdown",
      "metadata": {
        "id": "Lqxwpg4q5K39"
      },
      "source": [
        "**SVD Of Independent Variables**"
      ]
    },
    {
      "cell_type": "code",
      "metadata": {
        "id": "k8KbuqbR5Rbp"
      },
      "source": [
        "from scipy.linalg import svd"
      ],
      "execution_count": null,
      "outputs": []
    },
    {
      "cell_type": "code",
      "metadata": {
        "id": "mH0P1CLBCsLm"
      },
      "source": [
        "U,s,VT=svd(X_train,full_matrices=False)"
      ],
      "execution_count": null,
      "outputs": []
    },
    {
      "cell_type": "code",
      "metadata": {
        "id": "2CrZNl_sEFt4",
        "colab": {
          "base_uri": "https://localhost:8080/"
        },
        "outputId": "863f9e88-89e7-44d0-8d40-d9be230e2dcd"
      },
      "source": [
        "print(U.shape,s.shape,VT.shape)"
      ],
      "execution_count": null,
      "outputs": [
        {
          "output_type": "stream",
          "text": [
            "(52, 5) (5,) (5, 5)\n"
          ],
          "name": "stdout"
        }
      ]
    },
    {
      "cell_type": "code",
      "metadata": {
        "id": "OKcDslWfgPeQ"
      },
      "source": [
        "xtild=VT.T @ np.linalg.inv(np.diag(s)) @ U.T @ Y_train   #computing the B matric"
      ],
      "execution_count": null,
      "outputs": []
    },
    {
      "cell_type": "code",
      "metadata": {
        "colab": {
          "base_uri": "https://localhost:8080/"
        },
        "id": "mLN3dIyA_yHb",
        "outputId": "235a8476-69d8-489d-c2ab-dd030724ab43"
      },
      "source": [
        "print(xtild)"
      ],
      "execution_count": null,
      "outputs": [
        {
          "output_type": "stream",
          "text": [
            "[ 0.30766303  6.14771041 -7.65165818 -0.04427815  3.6229988 ]\n"
          ],
          "name": "stdout"
        }
      ]
    },
    {
      "cell_type": "code",
      "metadata": {
        "id": "RpLjp2LZ_-T6"
      },
      "source": [
        "svdPred=np.dot(X_test,xtild)                        #prediction of model"
      ],
      "execution_count": null,
      "outputs": []
    },
    {
      "cell_type": "code",
      "metadata": {
        "colab": {
          "base_uri": "https://localhost:8080/",
          "height": 384
        },
        "id": "S1ETSSZyA6nF",
        "outputId": "de0f3214-6f9f-4f0b-dcc3-638710a42fdf"
      },
      "source": [
        "ax1=sb.distplot(Y_test,hist=False,color=\"r\",label=\"Y_test\")\r\n",
        "sb.distplot(Y_Pred,hist=False,color=\"b\",label=\"svdPred\",ax=ax1)"
      ],
      "execution_count": null,
      "outputs": [
        {
          "output_type": "stream",
          "text": [
            "/usr/local/lib/python3.6/dist-packages/seaborn/distributions.py:2551: FutureWarning: `distplot` is a deprecated function and will be removed in a future version. Please adapt your code to use either `displot` (a figure-level function with similar flexibility) or `kdeplot` (an axes-level function for kernel density plots).\n",
            "  warnings.warn(msg, FutureWarning)\n",
            "/usr/local/lib/python3.6/dist-packages/seaborn/distributions.py:2551: FutureWarning: `distplot` is a deprecated function and will be removed in a future version. Please adapt your code to use either `displot` (a figure-level function with similar flexibility) or `kdeplot` (an axes-level function for kernel density plots).\n",
            "  warnings.warn(msg, FutureWarning)\n"
          ],
          "name": "stderr"
        },
        {
          "output_type": "execute_result",
          "data": {
            "text/plain": [
              "<matplotlib.axes._subplots.AxesSubplot at 0x7f3409083a20>"
            ]
          },
          "metadata": {
            "tags": []
          },
          "execution_count": 75
        },
        {
          "output_type": "display_data",
          "data": {
            "image/png": "[encoded data removed]",
            "text/plain": [
              "<Figure size 432x288 with 1 Axes>"
            ]
          },
          "metadata": {
            "tags": [],
            "needs_background": "light"
          }
        }
      ]
    }
  ]
}