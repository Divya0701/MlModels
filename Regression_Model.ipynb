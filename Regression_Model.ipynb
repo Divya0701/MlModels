{
  "nbformat": 4,
  "nbformat_minor": 0,
  "metadata": {
    "colab": {
      "name": "Regression Model",
      "provenance": [],
      "authorship_tag": "ABX9TyM4nXxWNvYC/2c/J9Z949Fq",
      "include_colab_link": true
    },
    "kernelspec": {
      "name": "python3",
      "display_name": "Python 3"
    }
  },
  "cells": [
    {
      "cell_type": "markdown",
      "metadata": {
        "id": "view-in-github",
        "colab_type": "text"
      },
      "source": [
        "<a href=\"https://colab.research.google.com/github/Divya0701/MlModels/blob/main/Regression_Model.ipynb\" target=\"_parent\"><img src=\"https://colab.research.google.com/assets/colab-badge.svg\" alt=\"Open In Colab\"/></a>"
      ]
    },
    {
      "cell_type": "code",
      "metadata": {
        "id": "9x7s1OKaAD0n"
      },
      "source": [
        "import numpy as np"
      ],
      "execution_count": null,
      "outputs": []
    },
    {
      "cell_type": "code",
      "metadata": {
        "id": "De6QmAAiAViV"
      },
      "source": [
        "import matplotlib.pyplot as plt"
      ],
      "execution_count": null,
      "outputs": []
    },
    {
      "cell_type": "code",
      "metadata": {
        "id": "npa7r8QNAsDZ"
      },
      "source": [
        "X = np.array([89.5,79.9,83.1,56.9,66.6,82.5,78.5,74.3,74.8,77])"
      ],
      "execution_count": null,
      "outputs": []
    },
    {
      "cell_type": "code",
      "metadata": {
        "id": "vadTqtOVAvbO"
      },
      "source": [
        "x0=np.array([1,1,1,1,1,1,1,1,1,1])\r\n"
      ],
      "execution_count": null,
      "outputs": []
    },
    {
      "cell_type": "code",
      "metadata": {
        "id": "ugyZzNOnA54f"
      },
      "source": [
        "X=np.stack((x0, X), axis=-1)"
      ],
      "execution_count": null,
      "outputs": []
    },
    {
      "cell_type": "code",
      "metadata": {
        "id": "K4unGKdbA98E"
      },
      "source": [
        "y =np.array( [20.0,14.8,20.5,12.5,14.3,19.0,12.3,14.0,16.7,17])\r\n"
      ],
      "execution_count": null,
      "outputs": []
    },
    {
      "cell_type": "code",
      "metadata": {
        "id": "NKXuoiBZCIZP"
      },
      "source": [
        "B=np.dot(np.linalg.inv(np.dot(X.T,X)), np.dot(X.T,y))\r\n"
      ],
      "execution_count": null,
      "outputs": []
    },
    {
      "cell_type": "code",
      "metadata": {
        "id": "WtzOmX93CM-y"
      },
      "source": [
        "y_pred=np.dot(X, B)\r\n"
      ],
      "execution_count": null,
      "outputs": []
    },
    {
      "cell_type": "code",
      "metadata": {
        "id": "lcyGpmRACUVJ"
      },
      "source": [
        "plt.scatter(X[:,1],y, color=\"b\")\r\n"
      ],
      "execution_count": null,
      "outputs": []
    },
    {
      "cell_type": "code",
      "metadata": {
        "id": "-3YffIvECcNV"
      },
      "source": [
        "plt.scatter(X[:,1],y_pred , color=\"r\")\r\n"
      ],
      "execution_count": null,
      "outputs": []
    },
    {
      "cell_type": "code",
      "metadata": {
        "id": "2_Oo2XeJC517"
      },
      "source": [
        "xnew=np.array([[1, 80], [1, 90],[1, 95]])\r\n"
      ],
      "execution_count": null,
      "outputs": []
    },
    {
      "cell_type": "code",
      "metadata": {
        "id": "ttKpG72qC-4V"
      },
      "source": [
        "y_pred=np.dot(xnew, B)\r\n"
      ],
      "execution_count": null,
      "outputs": []
    },
    {
      "cell_type": "code",
      "metadata": {
        "colab": {
          "base_uri": "https://localhost:8080/"
        },
        "id": "iKt7-Uo5DFFr",
        "outputId": "dc1f5928-ede7-4728-aacc-dcc744463b9c"
      },
      "source": [
        "print(y_pred)\r\n"
      ],
      "execution_count": null,
      "outputs": [
        {
          "output_type": "stream",
          "text": [
            "[16.97910968 19.33442047 20.51207586]\n"
          ],
          "name": "stdout"
        }
      ]
    },
    {
      "cell_type": "code",
      "metadata": {
        "colab": {
          "base_uri": "https://localhost:8080/",
          "height": 282
        },
        "id": "W3fJW2SkDKsG",
        "outputId": "3d39ab17-603b-4339-f630-38f58eb99198"
      },
      "source": [
        "plt.scatter(xnew[:,1],y_pred)"
      ],
      "execution_count": null,
      "outputs": [
        {
          "output_type": "execute_result",
          "data": {
            "text/plain": [
              "<matplotlib.collections.PathCollection at 0x7fe6579776a0>"
            ]
          },
          "metadata": {
            "tags": []
          },
          "execution_count": 23
        },
        {
          "output_type": "display_data",
          "data": {
            "image/png": "[encoded data removed]",
            "text/plain": [
              "<Figure size 432x288 with 1 Axes>"
            ]
          },
          "metadata": {
            "tags": [],
            "needs_background": "light"
          }
        }
      ]
    }
  ]
}