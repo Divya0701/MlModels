{
  "nbformat": 4,
  "nbformat_minor": 0,
  "metadata": {
    "colab": {
      "name": "FeathureSelection",
      "provenance": [],
      "authorship_tag": "ABX9TyMNB6+SzdoNgquMW16NnenQ",
      "include_colab_link": true
    },
    "kernelspec": {
      "name": "python3",
      "display_name": "Python 3"
    }
  },
  "cells": [
    {
      "cell_type": "markdown",
      "metadata": {
        "id": "view-in-github",
        "colab_type": "text"
      },
      "source": [
        "<a href=\"https://colab.research.google.com/github/Divya0701/MlModels/blob/main/FeathureSelection.ipynb\" target=\"_parent\"><img src=\"https://colab.research.google.com/assets/colab-badge.svg\" alt=\"Open In Colab\"/></a>"
      ]
    },
    {
      "cell_type": "code",
      "metadata": {
        "id": "fML5Hw12BDQK"
      },
      "source": [
        "import numpy as np"
      ],
      "execution_count": 13,
      "outputs": []
    },
    {
      "cell_type": "code",
      "metadata": {
        "id": "p3HSrwiJBWVZ"
      },
      "source": [
        "import pandas as pd"
      ],
      "execution_count": 14,
      "outputs": []
    },
    {
      "cell_type": "code",
      "metadata": {
        "id": "_VfmmeCnOIWl"
      },
      "source": [
        "import matplotlib as plt"
      ],
      "execution_count": 92,
      "outputs": []
    },
    {
      "cell_type": "code",
      "metadata": {
        "id": "v2CBrxQcOSDd"
      },
      "source": [
        "import seaborn as sb"
      ],
      "execution_count": 93,
      "outputs": []
    },
    {
      "cell_type": "code",
      "metadata": {
        "id": "StxrE5MFBYbS"
      },
      "source": [
        "df=pd.read_csv(\"cereals.csv\")"
      ],
      "execution_count": 3,
      "outputs": []
    },
    {
      "cell_type": "code",
      "metadata": {
        "id": "xe_GXVixBgJJ"
      },
      "source": [
        "m,n=df.shape"
      ],
      "execution_count": 4,
      "outputs": []
    },
    {
      "cell_type": "code",
      "metadata": {
        "id": "PIXIl7gzCx74"
      },
      "source": [
        "X=\"1\"*m\r\n",
        "X=[int(x) for x in list(X)]\r\n",
        "X=np.stack(X,-1)\r\n",
        "print(X)"
      ],
      "execution_count": null,
      "outputs": []
    },
    {
      "cell_type": "code",
      "metadata": {
        "id": "Qae0X7hwDaFK"
      },
      "source": [
        "df.insert(0,\"new\",X)"
      ],
      "execution_count": null,
      "outputs": []
    },
    {
      "cell_type": "code",
      "metadata": {
        "colab": {
          "base_uri": "https://localhost:8080/"
        },
        "id": "47vIDmxED5sN",
        "outputId": "71198a3b-25a5-466a-f386-d569bed1b9a1"
      },
      "source": [
        "print(df)"
      ],
      "execution_count": 63,
      "outputs": [
        {
          "output_type": "stream",
          "text": [
            "    new  calories  protein  fat  sodium  fiber     rating\n",
            "0     1        70        4    1     130   10.0  68.402973\n",
            "1     1       120        3    5      15    2.0  33.983679\n",
            "2     1        70        4    1     260    9.0  59.425505\n",
            "3     1        50        4    0     140   14.0  93.704912\n",
            "4     1       110        2    2     180    1.5  29.509541\n",
            "..  ...       ...      ...  ...     ...    ...        ...\n",
            "70    1       110        2    1     250    0.0  39.106174\n",
            "71    1       110        1    1     140    0.0  27.753301\n",
            "72    1       100        3    1     230    3.0  49.787445\n",
            "73    1       100        3    1     200    3.0  51.592193\n",
            "74    1       110        2    1     200    1.0  36.187559\n",
            "\n",
            "[75 rows x 7 columns]\n"
          ],
          "name": "stdout"
        }
      ]
    },
    {
      "cell_type": "code",
      "metadata": {
        "id": "l4a2Z_lcCk8v"
      },
      "source": [
        "X_Train=df.iloc[:int(0.7*m),:6]"
      ],
      "execution_count": 28,
      "outputs": []
    },
    {
      "cell_type": "code",
      "metadata": {
        "id": "IRIhBxg-EpCb"
      },
      "source": [
        "Y_Train=df.iloc[:int(0.7*m),6]"
      ],
      "execution_count": 30,
      "outputs": []
    },
    {
      "cell_type": "code",
      "metadata": {
        "id": "yEFKBftVEx5-"
      },
      "source": [
        "X_Test=df.iloc[int(0.7*m):,:6]"
      ],
      "execution_count": 33,
      "outputs": []
    },
    {
      "cell_type": "code",
      "metadata": {
        "id": "-E8NRScgMcHB"
      },
      "source": [
        "Y_Test=df.iloc[int(0.7*m):,6]"
      ],
      "execution_count": 69,
      "outputs": []
    },
    {
      "cell_type": "code",
      "metadata": {
        "id": "xCD9ZhEOFFyo"
      },
      "source": [
        "Selecting=[]"
      ],
      "execution_count": 55,
      "outputs": []
    },
    {
      "cell_type": "code",
      "metadata": {
        "id": "wr4_PHNrFIYR"
      },
      "source": [
        "B=np.dot(np.linalg.inv(np.dot(X_Train.T,X_Train)), np.dot(X_Train.T,Y_Train))"
      ],
      "execution_count": 36,
      "outputs": []
    },
    {
      "cell_type": "code",
      "metadata": {
        "id": "zsUVz0CuFZRI"
      },
      "source": [
        "for i in range(1,n):\r\n",
        "  p=np.corrcoef(df.iloc[:,i].values, df.iloc[:,6].values)\r\n",
        "  Selecting.append(p[0,1])\r\n",
        "  "
      ],
      "execution_count": 56,
      "outputs": []
    },
    {
      "cell_type": "code",
      "metadata": {
        "colab": {
          "base_uri": "https://localhost:8080/"
        },
        "id": "m7-hDgdsHuMY",
        "outputId": "505d30a8-1dff-41c4-d8a7-24d641845d4a"
      },
      "source": [
        "print(Selecting)"
      ],
      "execution_count": 58,
      "outputs": [
        {
          "output_type": "stream",
          "text": [
            "[-0.6943772894559791, 0.4681907009172461, -0.39337641883274627, -0.38805033587810916, 0.6035025610302239]\n"
          ],
          "name": "stdout"
        }
      ]
    },
    {
      "cell_type": "code",
      "metadata": {
        "id": "TFLZbHwDKMyV"
      },
      "source": [
        "Y_Pred=np.dot(X_Test,B)"
      ],
      "execution_count": 60,
      "outputs": []
    },
    {
      "cell_type": "code",
      "metadata": {
        "id": "6RUCISvlLenA"
      },
      "source": [
        "Y_mean=np.mean(Y_Test)"
      ],
      "execution_count": 66,
      "outputs": []
    },
    {
      "cell_type": "code",
      "metadata": {
        "id": "gvRwkpt5Lv1_"
      },
      "source": [
        "SSR=sum((Y_mean-Y_Pred)**2)"
      ],
      "execution_count": 67,
      "outputs": []
    },
    {
      "cell_type": "code",
      "metadata": {
        "colab": {
          "base_uri": "https://localhost:8080/"
        },
        "id": "vKZjURdlL9Br",
        "outputId": "0516e4d9-215b-4f5b-d98d-d5267bc695e1"
      },
      "source": [
        "print(SSR)"
      ],
      "execution_count": 68,
      "outputs": [
        {
          "output_type": "stream",
          "text": [
            "2610.247964848363\n"
          ],
          "name": "stdout"
        }
      ]
    },
    {
      "cell_type": "code",
      "metadata": {
        "colab": {
          "base_uri": "https://localhost:8080/",
          "height": 384
        },
        "id": "He5xVWSWQKGR",
        "outputId": "e3a3e66d-5385-4e2c-b927-7a0df1bc6d24"
      },
      "source": [
        "ax1=sb.distplot(Y_Test,hist=False,color=\"r\",label=\"Actual Values\")\r\n",
        "sb.distplot(Y_Pred,hist=False,color=\"b\",label=\"Fitted values\",ax=ax1)"
      ],
      "execution_count": 94,
      "outputs": [
        {
          "output_type": "stream",
          "text": [
            "/usr/local/lib/python3.6/dist-packages/seaborn/distributions.py:2551: FutureWarning: `distplot` is a deprecated function and will be removed in a future version. Please adapt your code to use either `displot` (a figure-level function with similar flexibility) or `kdeplot` (an axes-level function for kernel density plots).\n",
            "  warnings.warn(msg, FutureWarning)\n",
            "/usr/local/lib/python3.6/dist-packages/seaborn/distributions.py:2551: FutureWarning: `distplot` is a deprecated function and will be removed in a future version. Please adapt your code to use either `displot` (a figure-level function with similar flexibility) or `kdeplot` (an axes-level function for kernel density plots).\n",
            "  warnings.warn(msg, FutureWarning)\n"
          ],
          "name": "stderr"
        },
        {
          "output_type": "execute_result",
          "data": {
            "text/plain": [
              "<matplotlib.axes._subplots.AxesSubplot at 0x7f2b3675a2b0>"
            ]
          },
          "metadata": {
            "tags": []
          },
          "execution_count": 94
        },
        {
          "output_type": "display_data",
          "data": {
            "image/png": "[encoded data removed]",
            "text/plain": [
              "<Figure size 432x288 with 1 Axes>"
            ]
          },
          "metadata": {
            "tags": [],
            "needs_background": "light"
          }
        }
      ]
    },
    {
      "cell_type": "code",
      "metadata": {
        "id": "2x1mNzlKKbFV"
      },
      "source": [
        "df1=df.iloc[:,[0,1,3,4,5,6]]"
      ],
      "execution_count": 79,
      "outputs": []
    },
    {
      "cell_type": "code",
      "metadata": {
        "id": "JtVsNQleLIr9"
      },
      "source": [
        "print(df1)"
      ],
      "execution_count": null,
      "outputs": []
    },
    {
      "cell_type": "code",
      "metadata": {
        "id": "hp0hkXu-LV08"
      },
      "source": [
        "X_Train1=df1.iloc[:int(0.7*m),:5]"
      ],
      "execution_count": 81,
      "outputs": []
    },
    {
      "cell_type": "code",
      "metadata": {
        "id": "no3drVdYMmHm"
      },
      "source": [
        "Y_Train1=df1.iloc[:int(0.7*m),5]"
      ],
      "execution_count": 82,
      "outputs": []
    },
    {
      "cell_type": "code",
      "metadata": {
        "id": "QC15g6T5MpZM"
      },
      "source": [
        "X_Test1=df1.iloc[int(0.7*m):,:5]"
      ],
      "execution_count": 83,
      "outputs": []
    },
    {
      "cell_type": "code",
      "metadata": {
        "id": "k4MOi7MEMsnm"
      },
      "source": [
        "Y_Test1=df1.iloc[int(0.7*m):,5]"
      ],
      "execution_count": 84,
      "outputs": []
    },
    {
      "cell_type": "code",
      "metadata": {
        "id": "pKJKquY2NVGt"
      },
      "source": [
        "B1=np.dot(np.linalg.inv(np.dot(X_Train1.T,X_Train1)), np.dot(X_Train1.T,Y_Train1))"
      ],
      "execution_count": 85,
      "outputs": []
    },
    {
      "cell_type": "code",
      "metadata": {
        "id": "l89AhSr6Nhrp"
      },
      "source": [
        "Y_Pred1=np.dot(X_Test1,B1)"
      ],
      "execution_count": 88,
      "outputs": []
    },
    {
      "cell_type": "code",
      "metadata": {
        "id": "VZ7DiKtCNqgn"
      },
      "source": [
        "Y_mean1=np.mean(Y_Test1)"
      ],
      "execution_count": 89,
      "outputs": []
    },
    {
      "cell_type": "code",
      "metadata": {
        "id": "uxp_boMfNvSl"
      },
      "source": [
        "SSR1=sum((Y_mean1-Y_Pred1)**2)"
      ],
      "execution_count": 90,
      "outputs": []
    },
    {
      "cell_type": "code",
      "metadata": {
        "colab": {
          "base_uri": "https://localhost:8080/"
        },
        "id": "3nEhSIwKNyiQ",
        "outputId": "74cf938c-9594-4340-c2bc-dedf2463f1fd"
      },
      "source": [
        "print(SSR1)"
      ],
      "execution_count": 91,
      "outputs": [
        {
          "output_type": "stream",
          "text": [
            "2215.239641432931\n"
          ],
          "name": "stdout"
        }
      ]
    },
    {
      "cell_type": "code",
      "metadata": {
        "colab": {
          "base_uri": "https://localhost:8080/",
          "height": 384
        },
        "id": "jw8-qkDhOGq-",
        "outputId": "5648cc4e-62ba-415a-8cf9-544ff113d6d3"
      },
      "source": [
        "ax1=sb.distplot(Y_Test1,hist=False,color=\"r\",label=\"Actual Values\")\r\n",
        "sb.distplot(Y_Pred1,hist=False,color=\"b\",label=\"Fitted values\",ax=ax1)"
      ],
      "execution_count": 95,
      "outputs": [
        {
          "output_type": "stream",
          "text": [
            "/usr/local/lib/python3.6/dist-packages/seaborn/distributions.py:2551: FutureWarning: `distplot` is a deprecated function and will be removed in a future version. Please adapt your code to use either `displot` (a figure-level function with similar flexibility) or `kdeplot` (an axes-level function for kernel density plots).\n",
            "  warnings.warn(msg, FutureWarning)\n",
            "/usr/local/lib/python3.6/dist-packages/seaborn/distributions.py:2551: FutureWarning: `distplot` is a deprecated function and will be removed in a future version. Please adapt your code to use either `displot` (a figure-level function with similar flexibility) or `kdeplot` (an axes-level function for kernel density plots).\n",
            "  warnings.warn(msg, FutureWarning)\n"
          ],
          "name": "stderr"
        },
        {
          "output_type": "execute_result",
          "data": {
            "text/plain": [
              "<matplotlib.axes._subplots.AxesSubplot at 0x7f2b3341df28>"
            ]
          },
          "metadata": {
            "tags": []
          },
          "execution_count": 95
        },
        {
          "output_type": "display_data",
          "data": {
            "image/png": "[encoded data removed]",
            "text/plain": [
              "<Figure size 432x288 with 1 Axes>"
            ]
          },
          "metadata": {
            "tags": [],
            "needs_background": "light"
          }
        }
      ]
    }
  ]
}