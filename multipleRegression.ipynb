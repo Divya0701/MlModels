{
  "nbformat": 4,
  "nbformat_minor": 0,
  "metadata": {
    "colab": {
      "name": "multipleRegression",
      "provenance": [],
      "authorship_tag": "ABX9TyN440irmMm9C66Q3Wpqlgzz",
      "include_colab_link": true
    },
    "kernelspec": {
      "name": "python3",
      "display_name": "Python 3"
    }
  },
  "cells": [
    {
      "cell_type": "markdown",
      "metadata": {
        "id": "view-in-github",
        "colab_type": "text"
      },
      "source": [
        "<a href=\"https://colab.research.google.com/github/Divya0701/MlModels/blob/main/multipleRegression.ipynb\" target=\"_parent\"><img src=\"https://colab.research.google.com/assets/colab-badge.svg\" alt=\"Open In Colab\"/></a>"
      ]
    },
    {
      "cell_type": "code",
      "metadata": {
        "id": "bm31FcWuRo5K",
        "colab": {
          "base_uri": "https://localhost:8080/"
        },
        "outputId": "6d0ded44-6cc0-4c08-eea1-baf7f2006865"
      },
      "source": [
        "from google.colab import drive\n",
        "drive.mount('/content/drive')"
      ],
      "execution_count": 139,
      "outputs": [
        {
          "output_type": "stream",
          "text": [
            "Drive already mounted at /content/drive; to attempt to forcibly remount, call drive.mount(\"/content/drive\", force_remount=True).\n"
          ],
          "name": "stdout"
        }
      ]
    },
    {
      "cell_type": "code",
      "metadata": {
        "id": "52fjGrMKQ13_"
      },
      "source": [
        "import numpy as np"
      ],
      "execution_count": 140,
      "outputs": []
    },
    {
      "cell_type": "code",
      "metadata": {
        "id": "6v69svciRByx"
      },
      "source": [
        "import pandas as pd"
      ],
      "execution_count": 141,
      "outputs": []
    },
    {
      "cell_type": "code",
      "metadata": {
        "id": "QkbcmTimRK7n"
      },
      "source": [
        "from matplotlib import pyplot as plt; import seaborn as sb\r\n"
      ],
      "execution_count": 142,
      "outputs": []
    },
    {
      "cell_type": "code",
      "metadata": {
        "id": "eNsz7jxsRN29"
      },
      "source": [
        "from numpy.linalg import svd,inv\r\n"
      ],
      "execution_count": 143,
      "outputs": []
    },
    {
      "cell_type": "code",
      "metadata": {
        "id": "P3YicP5ERQ6S"
      },
      "source": [
        "d=pd.read_csv(\"/content/cereals.csv\")\r\n",
        "print(d)\r\n"
      ],
      "execution_count": null,
      "outputs": []
    },
    {
      "cell_type": "code",
      "metadata": {
        "id": "WQFeV1nug0x6"
      },
      "source": [
        "y=d.iloc[:10,5]\r\n",
        "y=y.values\r\n",
        "print(y)"
      ],
      "execution_count": null,
      "outputs": []
    },
    {
      "cell_type": "code",
      "metadata": {
        "id": "iQ4P1Bd_SXX3"
      },
      "source": [
        "X=d.iloc[:10,0:5]\r\n",
        "X.insert(0, \"Age\", [1,1,1,1,1,1,1,1,1,1], True) \r\n",
        "X=X.values"
      ],
      "execution_count": 146,
      "outputs": []
    },
    {
      "cell_type": "code",
      "metadata": {
        "id": "7I7u6d01SZns"
      },
      "source": [
        "print(X)"
      ],
      "execution_count": null,
      "outputs": []
    },
    {
      "cell_type": "code",
      "metadata": {
        "id": "J-L1KxAcSeWy"
      },
      "source": [
        "print(d.shape)\r\n"
      ],
      "execution_count": null,
      "outputs": []
    },
    {
      "cell_type": "code",
      "metadata": {
        "id": "5pz1GzM7SlhY"
      },
      "source": [
        "print(d.info)"
      ],
      "execution_count": null,
      "outputs": []
    },
    {
      "cell_type": "code",
      "metadata": {
        "id": "-DtI4FUUSxT4"
      },
      "source": [
        "print(d.columns)"
      ],
      "execution_count": null,
      "outputs": []
    },
    {
      "cell_type": "code",
      "metadata": {
        "id": "NKXuoiBZCIZP"
      },
      "source": [
        "B=np.dot(np.linalg.inv(np.dot(X.T,X)), np.dot(X.T,y))\r\n"
      ],
      "execution_count": 151,
      "outputs": []
    },
    {
      "cell_type": "code",
      "metadata": {
        "colab": {
          "base_uri": "https://localhost:8080/"
        },
        "id": "I5RVINF_hVgD",
        "outputId": "77317a2b-93e5-4232-f9c8-250703bf0d83"
      },
      "source": [
        "print(B)"
      ],
      "execution_count": 152,
      "outputs": [
        {
          "output_type": "stream",
          "text": [
            "[19.63684235  0.14562356  0.27605716 -2.92604722 -0.04124294  4.99968606]\n"
          ],
          "name": "stdout"
        }
      ]
    },
    {
      "cell_type": "code",
      "metadata": {
        "colab": {
          "base_uri": "https://localhost:8080/"
        },
        "id": "YJ_3ekEXhfpn",
        "outputId": "3ed4d87c-6338-4381-e401-6a39ac18221e"
      },
      "source": [
        "actual_y=d.iloc[10:20,5]\r\n",
        "actual_y=actual_y.values\r\n",
        "print(actual_y)"
      ],
      "execution_count": 153,
      "outputs": [
        {
          "output_type": "stream",
          "text": [
            "[50.764999 19.823573 40.400208 22.736446 41.445019 45.863324 35.782791\n",
            " 22.396513 40.448772 46.895644]\n"
          ],
          "name": "stdout"
        }
      ]
    },
    {
      "cell_type": "code",
      "metadata": {
        "colab": {
          "base_uri": "https://localhost:8080/"
        },
        "id": "0-1OCAjyiKmP",
        "outputId": "f18a5ec1-2635-475e-fb09-c07bffee46ee"
      },
      "source": [
        "test_data=d.iloc[10:20,0:5]\r\n",
        "test_data.insert(0, \"Age\", [1,1,1,1,1,1,1,1,1,1], True) \r\n",
        "test_data=test_data.values\r\n",
        "print(test_data)"
      ],
      "execution_count": 160,
      "outputs": [
        {
          "output_type": "stream",
          "text": [
            "[[  1. 110.   6.   2. 290.   2.]\n",
            " [  1. 120.   1.   3. 210.   0.]\n",
            " [  1. 110.   3.   2. 140.   2.]\n",
            " [  1. 110.   1.   1. 180.   0.]\n",
            " [  1. 110.   2.   0. 280.   0.]\n",
            " [  1. 100.   2.   0. 290.   1.]\n",
            " [  1. 110.   1.   0.  90.   1.]\n",
            " [  1. 110.   1.   1. 180.   0.]\n",
            " [  1. 110.   3.   3. 140.   4.]\n",
            " [  1. 110.   2.   0. 220.   1.]]\n"
          ],
          "name": "stdout"
        }
      ]
    },
    {
      "cell_type": "code",
      "metadata": {
        "colab": {
          "base_uri": "https://localhost:8080/"
        },
        "id": "QWss-qAfh_bJ",
        "outputId": "6e7e55fb-b578-4a16-99d7-caa6fce62123"
      },
      "source": [
        "y_pred=np.dot(test_data, B)\r\n",
        "print(y_pred)"
      ],
      "execution_count": 165,
      "outputs": [
        {
          "output_type": "stream",
          "text": [
            "[29.49860153 19.94856728 34.85687125 25.58171437 24.65952462 27.79054568\n",
            " 37.21931238 25.58171437 41.93019615 32.13378716]\n"
          ],
          "name": "stdout"
        }
      ]
    },
    {
      "cell_type": "code",
      "metadata": {
        "id": "eiw0pGhtvP7Q"
      },
      "source": [
        "import seaborn as sns\r\n"
      ],
      "execution_count": 156,
      "outputs": []
    },
    {
      "cell_type": "code",
      "metadata": {
        "colab": {
          "base_uri": "https://localhost:8080/",
          "height": 369
        },
        "id": "jCcHfzC1xoj8",
        "outputId": "63e625a9-85fe-48a2-a499-efc91fd409ae"
      },
      "source": [
        "ax1=sns.distplot(actual_y,hist=False,color=\"r\",label=\"Actual Values\")\r\n",
        "sns.distplot(y_pred,hist=False,color=\"b\",label=\"Fitted values\",ax=ax1)\r\n"
      ],
      "execution_count": 158,
      "outputs": [
        {
          "output_type": "stream",
          "text": [
            "/usr/local/lib/python3.6/dist-packages/seaborn/distributions.py:2551: FutureWarning: `distplot` is a deprecated function and will be removed in a future version. Please adapt your code to use either `displot` (a figure-level function with similar flexibility) or `kdeplot` (an axes-level function for kernel density plots).\n",
            "  warnings.warn(msg, FutureWarning)\n",
            "/usr/local/lib/python3.6/dist-packages/seaborn/distributions.py:2551: FutureWarning: `distplot` is a deprecated function and will be removed in a future version. Please adapt your code to use either `displot` (a figure-level function with similar flexibility) or `kdeplot` (an axes-level function for kernel density plots).\n",
            "  warnings.warn(msg, FutureWarning)\n"
          ],
          "name": "stderr"
        },
        {
          "output_type": "execute_result",
          "data": {
            "text/plain": [
              "<matplotlib.axes._subplots.AxesSubplot at 0x7fbf3377e748>"
            ]
          },
          "metadata": {
            "tags": []
          },
          "execution_count": 158
        },
        {
          "output_type": "display_data",
          "data": {
            "image/png": "[encoded data removed]",
            "text/plain": [
              "<Figure size 432x288 with 1 Axes>"
            ]
          },
          "metadata": {
            "tags": [],
            "needs_background": "light"
          }
        }
      ]
    },
    {
      "cell_type": "markdown",
      "metadata": {
        "id": "xkSgUeukyV3f"
      },
      "source": [
        " **Here i Have so much garbage data need to remove**"
      ]
    },
    {
      "cell_type": "markdown",
      "metadata": {
        "id": "wQTrOoxJzAE2"
      },
      "source": [
        "***Forward Featuring***"
      ]
    },
    {
      "cell_type": "markdown",
      "metadata": {
        "id": "xbXq-WWf2-MD"
      },
      "source": [
        "***we are using ssr to do this***"
      ]
    },
    {
      "cell_type": "code",
      "metadata": {
        "id": "UynvhvUJ3nLX"
      },
      "source": [
        "ssrs=[]"
      ],
      "execution_count": 173,
      "outputs": []
    },
    {
      "cell_type": "code",
      "metadata": {
        "colab": {
          "base_uri": "https://localhost:8080/"
        },
        "id": "uJYflkln8QtI",
        "outputId": "f52e0eee-e72e-47d7-9c62-3ad845248745"
      },
      "source": [
        "for i in range(1,10):\r\n",
        "  yi=np.dot(X[:][:i+1], B)\r\n",
        "  ssrs.append(sum((y[:][:i+1]-yi)**2))\r\n",
        "  print(yi)"
      ],
      "execution_count": 174,
      "outputs": [
        {
          "output_type": "stream",
          "text": [
            "[72.64395117 32.69033285]\n",
            "[72.64395117 32.69033285 62.28268273]\n",
            "[72.64395117 32.69033285 62.28268273 92.24384204]\n",
            "[72.64395117 32.69033285 62.28268273 92.24384204 30.43125341]\n",
            "[72.64395117 32.69033285 62.28268273 92.24384204 30.43125341 36.05186659]\n",
            "[72.64395117 32.69033285 62.28268273 92.24384204 30.43125341 36.05186659\n",
            " 34.88233654]\n",
            "[72.64395117 32.69033285 62.28268273 92.24384204 30.43125341 36.05186659\n",
            " 34.88233654 42.11918577]\n",
            "[72.64395117 32.69033285 62.28268273 92.24384204 30.43125341 36.05186659\n",
            " 34.88233654 42.11918577 49.9085468 ]\n",
            "[72.64395117 32.69033285 62.28268273 92.24384204 30.43125341 36.05186659\n",
            " 34.88233654 42.11918577 49.9085468  22.46218509]\n"
          ],
          "name": "stdout"
        }
      ]
    },
    {
      "cell_type": "code",
      "metadata": {
        "colab": {
          "base_uri": "https://localhost:8080/"
        },
        "id": "O39NRPpR-GZs",
        "outputId": "ec1f6c93-a57e-4f87-eb4c-730ff27bd0b4"
      },
      "source": [
        "print(ssrs)"
      ],
      "execution_count": 175,
      "outputs": [
        {
          "output_type": "stream",
          "text": [
            "[19.65864012481171, 27.822104727675363, 29.956830145616454, 30.80638390443759, 39.08795899650501, 43.73726721994562, 92.75220958323729, 104.3480474757742, 123.87856128438403]\n"
          ],
          "name": "stdout"
        }
      ]
    },
    {
      "cell_type": "code",
      "metadata": {
        "id": "_s7RX1Ec-jez"
      },
      "source": [
        "NewY=np.dot(test_data[:][:6],B)"
      ],
      "execution_count": 177,
      "outputs": []
    },
    {
      "cell_type": "code",
      "metadata": {
        "colab": {
          "base_uri": "https://localhost:8080/",
          "height": 369
        },
        "id": "usMYNJkV-3IR",
        "outputId": "cbe4c6ec-715d-407e-cbc0-1365d239bfee"
      },
      "source": [
        "ax2=sns.distplot(actual_y[:6],hist=False,color=\"r\",label=\"Actual Values\")\r\n",
        "sns.distplot(NewY,hist=False,color=\"b\",label=\"Fitted values\",ax=ax2)"
      ],
      "execution_count": 178,
      "outputs": [
        {
          "output_type": "stream",
          "text": [
            "/usr/local/lib/python3.6/dist-packages/seaborn/distributions.py:2551: FutureWarning: `distplot` is a deprecated function and will be removed in a future version. Please adapt your code to use either `displot` (a figure-level function with similar flexibility) or `kdeplot` (an axes-level function for kernel density plots).\n",
            "  warnings.warn(msg, FutureWarning)\n",
            "/usr/local/lib/python3.6/dist-packages/seaborn/distributions.py:2551: FutureWarning: `distplot` is a deprecated function and will be removed in a future version. Please adapt your code to use either `displot` (a figure-level function with similar flexibility) or `kdeplot` (an axes-level function for kernel density plots).\n",
            "  warnings.warn(msg, FutureWarning)\n"
          ],
          "name": "stderr"
        },
        {
          "output_type": "execute_result",
          "data": {
            "text/plain": [
              "<matplotlib.axes._subplots.AxesSubplot at 0x7fbf336fe978>"
            ]
          },
          "metadata": {
            "tags": []
          },
          "execution_count": 178
        },
        {
          "output_type": "display_data",
          "data": {
            "image/png": "[encoded data removed]",
            "text/plain": [
              "<Figure size 432x288 with 1 Axes>"
            ]
          },
          "metadata": {
            "tags": [],
            "needs_background": "light"
          }
        }
      ]
    }
  ]
}