{
  "nbformat": 4,
  "nbformat_minor": 0,
  "metadata": {
    "colab": {
      "name": "Assaignment5",
      "provenance": [],
      "collapsed_sections": [],
      "authorship_tag": "ABX9TyPBkoltL3ZybadbBzfskifn",
      "include_colab_link": true
    },
    "kernelspec": {
      "name": "python3",
      "display_name": "Python 3"
    }
  },
  "cells": [
    {
      "cell_type": "markdown",
      "metadata": {
        "id": "view-in-github",
        "colab_type": "text"
      },
      "source": [
        "<a href=\"https://colab.research.google.com/github/Divya0701/MlModels/blob/main/Assaignment5.ipynb\" target=\"_parent\"><img src=\"https://colab.research.google.com/assets/colab-badge.svg\" alt=\"Open In Colab\"/></a>"
      ]
    },
    {
      "cell_type": "markdown",
      "metadata": {
        "id": "a9EnuAcPHL-D"
      },
      "source": [
        "**Regression Testings**"
      ]
    },
    {
      "cell_type": "code",
      "metadata": {
        "id": "EJ0CoS3_HUIc"
      },
      "source": [
        "import numpy as np\r\n"
      ],
      "execution_count": null,
      "outputs": []
    },
    {
      "cell_type": "code",
      "metadata": {
        "id": "LJqGsZiLHfQA"
      },
      "source": [
        "from sklearn import linear_model"
      ],
      "execution_count": null,
      "outputs": []
    },
    {
      "cell_type": "code",
      "metadata": {
        "id": "w2doQNRCHWyt"
      },
      "source": [
        "X = np.array([10,15,25,28,20,28,12,16,35,30,38,18,40,45,22])"
      ],
      "execution_count": null,
      "outputs": []
    },
    {
      "cell_type": "code",
      "metadata": {
        "id": "6Fp7ascDJf9U"
      },
      "source": [
        "x=np.array([1,1,1,1,1,1,1,1,1,1,1,1,1,1,1])"
      ],
      "execution_count": null,
      "outputs": []
    },
    {
      "cell_type": "code",
      "metadata": {
        "id": "Wowq4ps1JquE"
      },
      "source": [
        "X=np.stack((x,X),axis=-1)"
      ],
      "execution_count": null,
      "outputs": []
    },
    {
      "cell_type": "code",
      "metadata": {
        "id": "867iaBQZHaCm"
      },
      "source": [
        "y =np.array( [10,12,15,15,14,16,10,15,20,18,21,11,25,28,15])"
      ],
      "execution_count": null,
      "outputs": []
    },
    {
      "cell_type": "code",
      "metadata": {
        "id": "6rwLzRkbJD3D"
      },
      "source": [
        "B=np.dot(np.linalg.inv(np.dot(X.T,X)),np.dot(X.T,y))"
      ],
      "execution_count": null,
      "outputs": []
    },
    {
      "cell_type": "code",
      "metadata": {
        "id": "i5jKce-qRzlV"
      },
      "source": [
        "Y1=np.dot(X,B)"
      ],
      "execution_count": null,
      "outputs": []
    },
    {
      "cell_type": "code",
      "metadata": {
        "id": "dY2ZUFrwR46I"
      },
      "source": [
        "print(Y1)"
      ],
      "execution_count": null,
      "outputs": []
    },
    {
      "cell_type": "code",
      "metadata": {
        "id": "KDBy6fDgRSir"
      },
      "source": [
        "Y_Pred=np.dot([1,18],B)"
      ],
      "execution_count": null,
      "outputs": []
    },
    {
      "cell_type": "code",
      "metadata": {
        "id": "NmUycStPRfCl"
      },
      "source": [
        "print(Y_Pred)"
      ],
      "execution_count": null,
      "outputs": []
    },
    {
      "cell_type": "code",
      "metadata": {
        "id": "OHWdN1_wRn1V"
      },
      "source": [
        "y_mean=np.mean(y)"
      ],
      "execution_count": null,
      "outputs": []
    },
    {
      "cell_type": "code",
      "metadata": {
        "id": "qsl21_gdSG0K"
      },
      "source": [
        "ssr=np.sum((y_mean-Y1)**2)"
      ],
      "execution_count": null,
      "outputs": []
    },
    {
      "cell_type": "code",
      "metadata": {
        "id": "AJ3j-0B2SQTA"
      },
      "source": [
        "sse=np.sum((y-Y1)**2)"
      ],
      "execution_count": null,
      "outputs": []
    },
    {
      "cell_type": "code",
      "metadata": {
        "colab": {
          "base_uri": "https://localhost:8080/"
        },
        "id": "xeKfJGyASVZH",
        "outputId": "d5662169-42eb-4bf0-e70a-4b5108f3cf1c"
      },
      "source": [
        "print(\"SSE :\",sse,\"SSR :\",ssr)"
      ],
      "execution_count": null,
      "outputs": [
        {
          "output_type": "stream",
          "text": [
            "SSE : 36.259046741497734 SSR : 353.07428659183563\n"
          ],
          "name": "stdout"
        }
      ]
    },
    {
      "cell_type": "markdown",
      "metadata": {
        "id": "4UamMvNaTwtl"
      },
      "source": [
        "**T-Statistic**"
      ]
    },
    {
      "cell_type": "code",
      "metadata": {
        "id": "DnrVEBvtUwUK"
      },
      "source": [
        "import statistics"
      ],
      "execution_count": null,
      "outputs": []
    },
    {
      "cell_type": "code",
      "metadata": {
        "id": "EKQPMoOhXBuy"
      },
      "source": [
        "v1=statistics.variance(X[:,1])"
      ],
      "execution_count": null,
      "outputs": []
    },
    {
      "cell_type": "code",
      "metadata": {
        "id": "ZV0s8xpgXmGf"
      },
      "source": [
        "v2=statistics.variance(y)"
      ],
      "execution_count": null,
      "outputs": []
    },
    {
      "cell_type": "code",
      "metadata": {
        "id": "mCGUHYyMX3ji"
      },
      "source": [
        "n=15 #n-2=13 n=15"
      ],
      "execution_count": null,
      "outputs": []
    },
    {
      "cell_type": "code",
      "metadata": {
        "id": "wfs3k2xWX-iT"
      },
      "source": [
        "p=2 #p=2 B1,B0"
      ],
      "execution_count": null,
      "outputs": []
    },
    {
      "cell_type": "code",
      "metadata": {
        "id": "JBgLavB3YKXD"
      },
      "source": [
        "ss=np.sqrt(v1/(v2*(n-2)))"
      ],
      "execution_count": null,
      "outputs": []
    },
    {
      "cell_type": "code",
      "metadata": {
        "id": "33O0hPj5YVkT"
      },
      "source": [
        "T_test=(B[1]/ss)"
      ],
      "execution_count": null,
      "outputs": []
    },
    {
      "cell_type": "code",
      "metadata": {
        "colab": {
          "base_uri": "https://localhost:8080/"
        },
        "id": "upgTGadKY-Qn",
        "outputId": "ffcc39a6-a234-4e79-f54f-5f5d53e7c141"
      },
      "source": [
        "print(T_test)"
      ],
      "execution_count": null,
      "outputs": [
        {
          "output_type": "stream",
          "text": [
            "0.8300652369723377\n"
          ],
          "name": "stdout"
        }
      ]
    },
    {
      "cell_type": "code",
      "metadata": {
        "id": "bT1flgOLZCqW"
      },
      "source": [
        "#t(n-p,alpha/2)=t(13,0.5/2)=± 3.012)"
      ],
      "execution_count": null,
      "outputs": []
    },
    {
      "cell_type": "code",
      "metadata": {
        "id": "XadZnOs-Z_9L"
      },
      "source": [
        "print(-3.012<T_test<3.012)"
      ],
      "execution_count": null,
      "outputs": []
    },
    {
      "cell_type": "markdown",
      "metadata": {
        "id": "oTidEAqvauc7"
      },
      "source": [
        "**F-Test**"
      ]
    },
    {
      "cell_type": "code",
      "metadata": {
        "id": "dEILcM80aySE"
      },
      "source": [
        "MSE=sse/n-p"
      ],
      "execution_count": null,
      "outputs": []
    },
    {
      "cell_type": "code",
      "metadata": {
        "id": "t8iz-JuCa852"
      },
      "source": [
        "MSR=ssr/p-1"
      ],
      "execution_count": null,
      "outputs": []
    },
    {
      "cell_type": "code",
      "metadata": {
        "id": "08cRBTu-bBOD"
      },
      "source": [
        "F=MSR/MSE"
      ],
      "execution_count": null,
      "outputs": []
    },
    {
      "cell_type": "code",
      "metadata": {
        "id": "t1-0SMZZbEyV"
      },
      "source": [
        "#f(p-1,n-p) let alpha=0.05 value=4.67"
      ],
      "execution_count": null,
      "outputs": []
    },
    {
      "cell_type": "code",
      "metadata": {
        "colab": {
          "base_uri": "https://localhost:8080/"
        },
        "id": "tDd6cuKlbrvt",
        "outputId": "6da2d903-9c75-4965-924f-acfcc9c32734"
      },
      "source": [
        "print(F)"
      ],
      "execution_count": null,
      "outputs": [
        {
          "output_type": "stream",
          "text": [
            "420.68021828012417\n"
          ],
          "name": "stdout"
        }
      ]
    },
    {
      "cell_type": "code",
      "metadata": {
        "id": "BCTqyf2cclUx"
      },
      "source": [
        "print(not(-4.67 <F< 4.67))"
      ],
      "execution_count": null,
      "outputs": []
    }
  ]
}