{
  "nbformat": 4,
  "nbformat_minor": 0,
  "metadata": {
    "colab": {
      "name": "Copy of nn(Assaignment12)",
      "provenance": [],
      "include_colab_link": true
    },
    "kernelspec": {
      "name": "python3",
      "display_name": "Python 3"
    }
  },
  "cells": [
    {
      "cell_type": "markdown",
      "metadata": {
        "id": "view-in-github",
        "colab_type": "text"
      },
      "source": [
        "<a href=\"https://colab.research.google.com/github/Divya0701/MlModels/blob/main/Copy_of_nn(Assaignment12).ipynb\" target=\"_parent\"><img src=\"https://colab.research.google.com/assets/colab-badge.svg\" alt=\"Open In Colab\"/></a>"
      ]
    },
    {
      "cell_type": "code",
      "metadata": {
        "id": "D_1a5HFY3OO3"
      },
      "source": [
        "import numpy as np\r\n",
        "import matplotlib.pyplot as plt"
      ],
      "execution_count": null,
      "outputs": []
    },
    {
      "cell_type": "code",
      "metadata": {
        "id": "ROOy0sGG3P6n"
      },
      "source": [
        "class Perceptron:\r\n",
        "    def __init__(self,No_of_inputs, itr, learning_rate):\r\n",
        "       self.n=No_of_inputs\r\n",
        "       self.W = np.array([-0.8,0.4,0.5]) #np.zeros(self.n + 1) #\r\n",
        "       self.itr = itr\r\n",
        "       self.learning_rate = learning_rate\r\n",
        "       \r\n",
        "    def predict(self, X):\r\n",
        "        summation = self.W[0]+np.dot(X, self.W[1:])\r\n",
        "        #Sigma=w0+x1w1+x2w2\r\n",
        "        yy=1/(1+np.exp(-summation))\r\n",
        "        return yy\r\n",
        "   \r\n",
        "    def train(self, X, Y):\r\n",
        "        for _ in range(self.itr):\r\n",
        "            los=0\r\n",
        "            for x, y in zip(X, Y):\r\n",
        "                yy = self.predict(x) # weighted sum  $ step function\r\n",
        "                self.W[1:] += self.learning_rate * (y - yy) * x\r\n",
        "                self.W[0] += self.learning_rate * (y - yy)\r\n",
        "                #self.W[1:] += self.learning_rate * yy * x\r\n",
        "                #self.W[0] += self.learning_rate * yy\r\n",
        "                los=los+(y - yy)\r\n",
        "            loss.append(los/len(Y))"
      ],
      "execution_count": null,
      "outputs": []
    },
    {
      "cell_type": "code",
      "metadata": {
        "colab": {
          "base_uri": "https://localhost:8080/",
          "height": 282
        },
        "id": "U7wke9MI3ZTp",
        "outputId": "18696bd0-9e75-4d62-ed01-67a8ec090ff1"
      },
      "source": [
        "   \r\n",
        "x_red = np.random.randn(100, 2) + 2\r\n",
        "x_blue = np.random.randn(100, 2) -2\r\n",
        "X = np.reshape(np.vstack((x_red, x_blue)),(200,2))\r\n",
        "Y = np.vstack((np.zeros((100,1)),np.ones((100,1))))\r\n",
        "plt.plot(x_red[:,0], x_red[:,1], 'r*')\r\n",
        "plt.plot(x_blue[:,0], x_blue[:,1], 'bo')\r\n"
      ],
      "execution_count": null,
      "outputs": [
        {
          "output_type": "execute_result",
          "data": {
            "text/plain": [
              "[<matplotlib.lines.Line2D at 0x7fc24ebd1d30>]"
            ]
          },
          "metadata": {
            "tags": []
          },
          "execution_count": 7
        },
        {
          "output_type": "display_data",
          "data": {
            "image/png": "[encoded data removed]",
            "text/plain": [
              "<Figure size 432x288 with 1 Axes>"
            ]
          },
          "metadata": {
            "tags": [],
            "needs_background": "light"
          }
        }
      ]
    },
    {
      "cell_type": "code",
      "metadata": {
        "id": "RiH0TTNa3cbw"
      },
      "source": [
        "no_of_inputs=2\r\n",
        "loss=[]\r\n",
        "\r\n",
        "model =  Perceptron(no_of_inputs, itr=30, learning_rate=0.1)\r\n",
        "\r\n",
        "model.train(X,Y)\r\n",
        "\r\n",
        "w=model.W\r\n"
      ],
      "execution_count": null,
      "outputs": []
    },
    {
      "cell_type": "code",
      "metadata": {
        "colab": {
          "base_uri": "https://localhost:8080/"
        },
        "id": "gbD9XsPfIrF7",
        "outputId": "e143cbf0-5af4-48fa-c80a-562024d4b449"
      },
      "source": [
        "print(w)"
      ],
      "execution_count": null,
      "outputs": [
        {
          "output_type": "stream",
          "text": [
            "[-0.7657432  -2.87943973 -3.19949061]\n"
          ],
          "name": "stdout"
        }
      ]
    },
    {
      "cell_type": "code",
      "metadata": {
        "colab": {
          "base_uri": "https://localhost:8080/",
          "height": 283
        },
        "id": "CACjng9y4qEb",
        "outputId": "500fbcc3-c3d5-4d7a-ca28-ebf3913c8b19"
      },
      "source": [
        "\r\n",
        "x1=np.array([-4,-1,0,1,4])\r\n",
        "plt.plot(x_red[:,0], x_red[:,1], 'r*')\r\n",
        "plt.plot(x_blue[:,0], x_blue[:,1], 'bo')\r\n",
        "\r\n",
        "x2=-(w[1]/w[2])*x1-w[0]/w[2]\r\n",
        "plt.plot(x1,x2,color='g')"
      ],
      "execution_count": null,
      "outputs": [
        {
          "output_type": "execute_result",
          "data": {
            "text/plain": [
              "[<matplotlib.lines.Line2D at 0x7f2658faa668>]"
            ]
          },
          "metadata": {
            "tags": []
          },
          "execution_count": 22
        },
        {
          "output_type": "display_data",
          "data": {
            "image/png": "[encoded data removed]",
            "text/plain": [
              "<Figure size 432x288 with 1 Axes>"
            ]
          },
          "metadata": {
            "tags": [],
            "needs_background": "light"
          }
        }
      ]
    },
    {
      "cell_type": "code",
      "metadata": {
        "id": "uQ4BUwz4KbZ_"
      },
      "source": [
        "# take a new input xnew [1,3]\r\n",
        "#predict the class of xnew"
      ],
      "execution_count": null,
      "outputs": []
    },
    {
      "cell_type": "markdown",
      "metadata": {
        "id": "9xgQq1vkRNqr"
      },
      "source": [
        "https://drive.google.com/drive/u/0/folders/1MypqDr4cmQ0qGSrKKCvJIo2mNPojRl8l\r\n",
        "\r\n",
        "construct the model for iris dataset"
      ]
    },
    {
      "cell_type": "markdown",
      "metadata": {
        "id": "PTd4OJ3H3ViI"
      },
      "source": [
        ""
      ]
    }
  ]
}